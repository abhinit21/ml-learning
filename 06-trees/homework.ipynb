{
 "cells": [
  {
   "cell_type": "code",
   "execution_count": 18,
   "id": "initial_id",
   "metadata": {
    "collapsed": true,
    "ExecuteTime": {
     "end_time": "2023-10-19T14:18:36.376561800Z",
     "start_time": "2023-10-19T14:18:36.357316500Z"
    }
   },
   "outputs": [],
   "source": [
    "import numpy as np\n",
    "import pandas as pd\n",
    "\n",
    "import xgboost as xgb\n",
    "\n",
    "from tqdm import tqdm\n",
    "\n",
    "from sklearn.ensemble import RandomForestRegressor\n",
    "from sklearn.feature_extraction import DictVectorizer\n",
    "from sklearn.metrics import mean_squared_error\n",
    "from sklearn.model_selection import train_test_split, GridSearchCV, PredefinedSplit\n",
    "from sklearn.tree import export_text, DecisionTreeRegressor"
   ]
  },
  {
   "cell_type": "markdown",
   "source": [
    "**Question 01**"
   ],
   "metadata": {
    "collapsed": false
   },
   "id": "832f18893ece7b62"
  },
  {
   "cell_type": "code",
   "execution_count": 2,
   "outputs": [],
   "source": [
    "df = pd.read_csv('housing.csv')"
   ],
   "metadata": {
    "collapsed": false,
    "ExecuteTime": {
     "end_time": "2023-10-19T13:40:03.046071200Z",
     "start_time": "2023-10-19T13:40:03.000491600Z"
    }
   },
   "id": "7d365c930b83a317"
  },
  {
   "cell_type": "code",
   "execution_count": 3,
   "outputs": [],
   "source": [
    "df = df.query(\"ocean_proximity == '<1H OCEAN' | ocean_proximity == 'INLAND'\")\n",
    "df.fillna(0, inplace=True)\n",
    "df.median_house_value = df.median_house_value.apply(np.log1p)\n",
    "df.reset_index(drop=True, inplace=True)"
   ],
   "metadata": {
    "collapsed": false,
    "ExecuteTime": {
     "end_time": "2023-10-19T13:40:03.109770700Z",
     "start_time": "2023-10-19T13:40:03.049600Z"
    }
   },
   "id": "bd96071f0803ed58"
  },
  {
   "cell_type": "code",
   "execution_count": 4,
   "outputs": [],
   "source": [
    "def split_data(data, labels, test_size=None, val_size=None, random_state=None):\n",
    "    val_ratio = val_size / (test_size + val_size)\n",
    "    train_data, temp_data, train_labels, temp_labels = train_test_split(\n",
    "        data, labels, test_size=(test_size + val_size),\n",
    "        random_state=random_state\n",
    "    )\n",
    "    val_data, test_data, val_labels, test_labels = train_test_split(\n",
    "        temp_data, temp_labels, test_size=val_ratio,\n",
    "        random_state=random_state\n",
    "    )\n",
    "    return train_data, val_data, test_data, train_labels, val_labels, test_labels"
   ],
   "metadata": {
    "collapsed": false,
    "ExecuteTime": {
     "end_time": "2023-10-19T13:40:03.110770200Z",
     "start_time": "2023-10-19T13:40:03.079180800Z"
    }
   },
   "id": "1b51108c5e0703a9"
  },
  {
   "cell_type": "code",
   "execution_count": 5,
   "outputs": [
    {
     "data": {
      "text/plain": "DecisionTreeRegressor(max_depth=1)",
      "text/html": "<style>#sk-container-id-1 {color: black;}#sk-container-id-1 pre{padding: 0;}#sk-container-id-1 div.sk-toggleable {background-color: white;}#sk-container-id-1 label.sk-toggleable__label {cursor: pointer;display: block;width: 100%;margin-bottom: 0;padding: 0.3em;box-sizing: border-box;text-align: center;}#sk-container-id-1 label.sk-toggleable__label-arrow:before {content: \"▸\";float: left;margin-right: 0.25em;color: #696969;}#sk-container-id-1 label.sk-toggleable__label-arrow:hover:before {color: black;}#sk-container-id-1 div.sk-estimator:hover label.sk-toggleable__label-arrow:before {color: black;}#sk-container-id-1 div.sk-toggleable__content {max-height: 0;max-width: 0;overflow: hidden;text-align: left;background-color: #f0f8ff;}#sk-container-id-1 div.sk-toggleable__content pre {margin: 0.2em;color: black;border-radius: 0.25em;background-color: #f0f8ff;}#sk-container-id-1 input.sk-toggleable__control:checked~div.sk-toggleable__content {max-height: 200px;max-width: 100%;overflow: auto;}#sk-container-id-1 input.sk-toggleable__control:checked~label.sk-toggleable__label-arrow:before {content: \"▾\";}#sk-container-id-1 div.sk-estimator input.sk-toggleable__control:checked~label.sk-toggleable__label {background-color: #d4ebff;}#sk-container-id-1 div.sk-label input.sk-toggleable__control:checked~label.sk-toggleable__label {background-color: #d4ebff;}#sk-container-id-1 input.sk-hidden--visually {border: 0;clip: rect(1px 1px 1px 1px);clip: rect(1px, 1px, 1px, 1px);height: 1px;margin: -1px;overflow: hidden;padding: 0;position: absolute;width: 1px;}#sk-container-id-1 div.sk-estimator {font-family: monospace;background-color: #f0f8ff;border: 1px dotted black;border-radius: 0.25em;box-sizing: border-box;margin-bottom: 0.5em;}#sk-container-id-1 div.sk-estimator:hover {background-color: #d4ebff;}#sk-container-id-1 div.sk-parallel-item::after {content: \"\";width: 100%;border-bottom: 1px solid gray;flex-grow: 1;}#sk-container-id-1 div.sk-label:hover label.sk-toggleable__label {background-color: #d4ebff;}#sk-container-id-1 div.sk-serial::before {content: \"\";position: absolute;border-left: 1px solid gray;box-sizing: border-box;top: 0;bottom: 0;left: 50%;z-index: 0;}#sk-container-id-1 div.sk-serial {display: flex;flex-direction: column;align-items: center;background-color: white;padding-right: 0.2em;padding-left: 0.2em;position: relative;}#sk-container-id-1 div.sk-item {position: relative;z-index: 1;}#sk-container-id-1 div.sk-parallel {display: flex;align-items: stretch;justify-content: center;background-color: white;position: relative;}#sk-container-id-1 div.sk-item::before, #sk-container-id-1 div.sk-parallel-item::before {content: \"\";position: absolute;border-left: 1px solid gray;box-sizing: border-box;top: 0;bottom: 0;left: 50%;z-index: -1;}#sk-container-id-1 div.sk-parallel-item {display: flex;flex-direction: column;z-index: 1;position: relative;background-color: white;}#sk-container-id-1 div.sk-parallel-item:first-child::after {align-self: flex-end;width: 50%;}#sk-container-id-1 div.sk-parallel-item:last-child::after {align-self: flex-start;width: 50%;}#sk-container-id-1 div.sk-parallel-item:only-child::after {width: 0;}#sk-container-id-1 div.sk-dashed-wrapped {border: 1px dashed gray;margin: 0 0.4em 0.5em 0.4em;box-sizing: border-box;padding-bottom: 0.4em;background-color: white;}#sk-container-id-1 div.sk-label label {font-family: monospace;font-weight: bold;display: inline-block;line-height: 1.2em;}#sk-container-id-1 div.sk-label-container {text-align: center;}#sk-container-id-1 div.sk-container {/* jupyter's `normalize.less` sets `[hidden] { display: none; }` but bootstrap.min.css set `[hidden] { display: none !important; }` so we also need the `!important` here to be able to override the default hidden behavior on the sphinx rendered scikit-learn.org. See: https://github.com/scikit-learn/scikit-learn/issues/21755 */display: inline-block !important;position: relative;}#sk-container-id-1 div.sk-text-repr-fallback {display: none;}</style><div id=\"sk-container-id-1\" class=\"sk-top-container\"><div class=\"sk-text-repr-fallback\"><pre>DecisionTreeRegressor(max_depth=1)</pre><b>In a Jupyter environment, please rerun this cell to show the HTML representation or trust the notebook. <br />On GitHub, the HTML representation is unable to render, please try loading this page with nbviewer.org.</b></div><div class=\"sk-container\" hidden><div class=\"sk-item\"><div class=\"sk-estimator sk-toggleable\"><input class=\"sk-toggleable__control sk-hidden--visually\" id=\"sk-estimator-id-1\" type=\"checkbox\" checked><label for=\"sk-estimator-id-1\" class=\"sk-toggleable__label sk-toggleable__label-arrow\">DecisionTreeRegressor</label><div class=\"sk-toggleable__content\"><pre>DecisionTreeRegressor(max_depth=1)</pre></div></div></div></div></div>"
     },
     "execution_count": 5,
     "metadata": {},
     "output_type": "execute_result"
    }
   ],
   "source": [
    "X = df.copy().drop('median_house_value', axis=1)\n",
    "y = df.median_house_value\n",
    "\n",
    "Xtrain, Xvalid, Xtest, ytrain, yvalid, ytest = split_data(X, y, test_size=0.2, val_size=0.2, random_state=1)\n",
    "\n",
    "train_dict, valid_dict = Xtrain.to_dict(orient='records'), Xvalid.to_dict(orient='records')\n",
    "\n",
    "dv = DictVectorizer(sparse=True)\n",
    "Xtrain = dv.fit_transform(train_dict)\n",
    "Xvalid = dv.transform(valid_dict)\n",
    "\n",
    "model = DecisionTreeRegressor(max_depth=1)\n",
    "model.fit(Xtrain, ytrain)"
   ],
   "metadata": {
    "collapsed": false,
    "ExecuteTime": {
     "end_time": "2023-10-19T13:40:03.320667500Z",
     "start_time": "2023-10-19T13:40:03.097250800Z"
    }
   },
   "id": "3d827656b6343bc"
  },
  {
   "cell_type": "code",
   "execution_count": 6,
   "outputs": [
    {
     "name": "stdout",
     "output_type": "stream",
     "text": [
      "|--- ocean_proximity=<1H OCEAN <= 0.50\n",
      "|   |--- value: [11.61]\n",
      "|--- ocean_proximity=<1H OCEAN >  0.50\n",
      "|   |--- value: [12.30]\n"
     ]
    }
   ],
   "source": [
    "print(export_text(model, feature_names=dv.get_feature_names_out()))"
   ],
   "metadata": {
    "collapsed": false,
    "ExecuteTime": {
     "end_time": "2023-10-19T13:40:03.374156400Z",
     "start_time": "2023-10-19T13:40:03.314673700Z"
    }
   },
   "id": "61676ad934dae15d"
  },
  {
   "cell_type": "markdown",
   "source": [
    "**Question 02**"
   ],
   "metadata": {
    "collapsed": false
   },
   "id": "ec5411cee8127bbd"
  },
  {
   "cell_type": "code",
   "execution_count": 9,
   "outputs": [],
   "source": [
    "def train(data, labels, estimators=10, seed=1):\n",
    "    train_data, val_data, test_data, train_labels, val_labels, test_labels = split_data(\n",
    "        data, labels, test_size=0.2, val_size=0.2,\n",
    "        random_state=seed\n",
    "    )\n",
    "    \n",
    "    x_train, x_val = train_data.to_dict(orient='records'), val_data.to_dict(orient='records')\n",
    "    \n",
    "    dict_vector = DictVectorizer(sparse=True)\n",
    "    train_data = dv.fit_transform(x_train)\n",
    "    val_data = dv.transform(x_val)\n",
    "    \n",
    "    clf = RandomForestRegressor(n_estimators=estimators, n_jobs=-1, random_state=seed)\n",
    "    clf.fit(train_data, train_labels)\n",
    "    val_pred = clf.predict(val_data)\n",
    "    \n",
    "    rmse = mean_squared_error(val_pred, val_labels, squared=False)\n",
    "    return rmse"
   ],
   "metadata": {
    "collapsed": false,
    "ExecuteTime": {
     "end_time": "2023-10-19T13:49:46.846174200Z",
     "start_time": "2023-10-19T13:49:46.820169600Z"
    }
   },
   "id": "697cd5fe54bf94cc"
  },
  {
   "cell_type": "code",
   "execution_count": 8,
   "outputs": [
    {
     "data": {
      "text/plain": "0.235"
     },
     "execution_count": 8,
     "metadata": {},
     "output_type": "execute_result"
    }
   ],
   "source": [
    "model = RandomForestRegressor(n_estimators=10, n_jobs=-1, random_state=1)\n",
    "model.fit(Xtrain, ytrain)\n",
    "\n",
    "ypred = model.predict(Xvalid)\n",
    "\n",
    "rmse = mean_squared_error(ypred, yvalid, squared=False)\n",
    "\n",
    "np.round(rmse, 3)"
   ],
   "metadata": {
    "collapsed": false,
    "ExecuteTime": {
     "end_time": "2023-10-19T13:40:31.463151800Z",
     "start_time": "2023-10-19T13:40:28.864009300Z"
    }
   },
   "id": "833f3c22f6bc4234"
  },
  {
   "cell_type": "markdown",
   "source": [
    "**Question 03**"
   ],
   "metadata": {
    "collapsed": false
   },
   "id": "e8dc9effdef6a0bb"
  },
  {
   "cell_type": "code",
   "execution_count": 10,
   "outputs": [],
   "source": [
    "n_estimators = []\n",
    "\n",
    "for parm in tqdm(range(10, 200, 10)):\n",
    "    score = np.round(train(X, y, estimators=parm), 3)\n",
    "    n_estimators.append({'n_estimator': parm, 'RMSE': score})"
   ],
   "metadata": {
    "collapsed": false,
    "ExecuteTime": {
     "end_time": "2023-10-19T13:56:52.199094100Z",
     "start_time": "2023-10-19T13:50:01.854026600Z"
    }
   },
   "id": "cfba0dc6b34223b0"
  },
  {
   "cell_type": "code",
   "execution_count": 11,
   "outputs": [
    {
     "data": {
      "text/plain": "    n_estimator      RMSE\n0            10  0.234947\n1            20  0.226048\n2            30  0.223287\n3            40  0.223104\n4            50  0.221692\n5            60  0.221630\n6            70  0.221184\n7            80  0.221054\n8            90  0.221393\n9           100  0.220897\n10          110  0.220467\n11          120  0.220513\n12          130  0.220257\n13          140  0.220201\n14          150  0.220144\n15          160  0.220147\n16          170  0.220171\n17          180  0.220312\n18          190  0.220329",
      "text/html": "<div>\n<style scoped>\n    .dataframe tbody tr th:only-of-type {\n        vertical-align: middle;\n    }\n\n    .dataframe tbody tr th {\n        vertical-align: top;\n    }\n\n    .dataframe thead th {\n        text-align: right;\n    }\n</style>\n<table border=\"1\" class=\"dataframe\">\n  <thead>\n    <tr style=\"text-align: right;\">\n      <th></th>\n      <th>n_estimator</th>\n      <th>RMSE</th>\n    </tr>\n  </thead>\n  <tbody>\n    <tr>\n      <th>0</th>\n      <td>10</td>\n      <td>0.234947</td>\n    </tr>\n    <tr>\n      <th>1</th>\n      <td>20</td>\n      <td>0.226048</td>\n    </tr>\n    <tr>\n      <th>2</th>\n      <td>30</td>\n      <td>0.223287</td>\n    </tr>\n    <tr>\n      <th>3</th>\n      <td>40</td>\n      <td>0.223104</td>\n    </tr>\n    <tr>\n      <th>4</th>\n      <td>50</td>\n      <td>0.221692</td>\n    </tr>\n    <tr>\n      <th>5</th>\n      <td>60</td>\n      <td>0.221630</td>\n    </tr>\n    <tr>\n      <th>6</th>\n      <td>70</td>\n      <td>0.221184</td>\n    </tr>\n    <tr>\n      <th>7</th>\n      <td>80</td>\n      <td>0.221054</td>\n    </tr>\n    <tr>\n      <th>8</th>\n      <td>90</td>\n      <td>0.221393</td>\n    </tr>\n    <tr>\n      <th>9</th>\n      <td>100</td>\n      <td>0.220897</td>\n    </tr>\n    <tr>\n      <th>10</th>\n      <td>110</td>\n      <td>0.220467</td>\n    </tr>\n    <tr>\n      <th>11</th>\n      <td>120</td>\n      <td>0.220513</td>\n    </tr>\n    <tr>\n      <th>12</th>\n      <td>130</td>\n      <td>0.220257</td>\n    </tr>\n    <tr>\n      <th>13</th>\n      <td>140</td>\n      <td>0.220201</td>\n    </tr>\n    <tr>\n      <th>14</th>\n      <td>150</td>\n      <td>0.220144</td>\n    </tr>\n    <tr>\n      <th>15</th>\n      <td>160</td>\n      <td>0.220147</td>\n    </tr>\n    <tr>\n      <th>16</th>\n      <td>170</td>\n      <td>0.220171</td>\n    </tr>\n    <tr>\n      <th>17</th>\n      <td>180</td>\n      <td>0.220312</td>\n    </tr>\n    <tr>\n      <th>18</th>\n      <td>190</td>\n      <td>0.220329</td>\n    </tr>\n  </tbody>\n</table>\n</div>"
     },
     "execution_count": 11,
     "metadata": {},
     "output_type": "execute_result"
    }
   ],
   "source": [
    "pd.DataFrame(n_estimators)"
   ],
   "metadata": {
    "collapsed": false,
    "ExecuteTime": {
     "end_time": "2023-10-19T13:56:52.430784500Z",
     "start_time": "2023-10-19T13:56:52.225713200Z"
    }
   },
   "id": "87f5cdad343b7c3a"
  },
  {
   "cell_type": "markdown",
   "source": [
    "**Question 04**"
   ],
   "metadata": {
    "collapsed": false
   },
   "id": "c85e157d7a788721"
  },
  {
   "cell_type": "code",
   "execution_count": null,
   "outputs": [
    {
     "name": "stdout",
     "output_type": "stream",
     "text": [
      "Fitting 5 folds for each of 76 candidates, totalling 380 fits\n"
     ]
    }
   ],
   "source": [
    "param_grid = {\n",
    "    'n_estimators': list(range(10, 200, 10)),\n",
    "    'max_depth': [10, 15, 20, 25]\n",
    "}\n",
    "\n",
    "grid_search = GridSearchCV(\n",
    "    estimator=RandomForestRegressor(random_state=1),\n",
    "    param_grid=param_grid,\n",
    "    scoring='neg_root_mean_squared_error',\n",
    "    n_jobs=-1,\n",
    "    verbose=2\n",
    ")\n",
    "\n",
    "grid_search.fit(Xtrain, ytrain)\n",
    "\n",
    "results = pd.DataFrame(grid_search.cv_results_)\n",
    "\n",
    "# Display the best parameters and corresponding RMSE\n",
    "best_params = grid_search.best_params_\n",
    "best_rmse = -grid_search.best_score_  # Negate to get the actual RMSE\n",
    "\n",
    "print(\"Best Parameters:\", best_params)\n",
    "print(\"Best RMSE:\", best_rmse)\n",
    "\n",
    "# Store the RMSE values in a DataFrame\n",
    "rmse_values = results[['param_n_estimators', 'param_max_depth', 'mean_test_score']]\n",
    "rmse_values.rename(columns={'mean_test_score': 'RMSE'}, inplace=True)\n",
    "\n",
    "rmse_values"
   ],
   "metadata": {
    "collapsed": false,
    "is_executing": true,
    "ExecuteTime": {
     "start_time": "2023-10-19T14:24:04.793832Z"
    }
   },
   "id": "854acc68763fe2cf"
  },
  {
   "cell_type": "markdown",
   "source": [
    "**Question 05**"
   ],
   "metadata": {
    "collapsed": false
   },
   "id": "dbd7b5dc8de86d68"
  },
  {
   "cell_type": "code",
   "execution_count": null,
   "outputs": [],
   "source": [
    "model = RandomForestRegressor(n_estimators=10, max_depth=20, n_jobs=-1, random_state=1)\n",
    "model.fit(Xtrain, ytrain)\n",
    "\n",
    "model.feature_importances_"
   ],
   "metadata": {
    "collapsed": false
   },
   "id": "d0d3b15a1f0c8e31"
  },
  {
   "cell_type": "markdown",
   "source": [
    "**Question 06**"
   ],
   "metadata": {
    "collapsed": false
   },
   "id": "a0fd42cf4a794038"
  },
  {
   "cell_type": "code",
   "execution_count": null,
   "outputs": [],
   "source": [
    "features = list(dv.get_feature_names_out())\n",
    "\n",
    "dtrain = xgb.DMatrix(data=Xtrain, label=ytrain, feature_names=features)\n",
    "dvalid = xgb.DMatrix(data=Xvalid, label=yvalid, feature_names=features)"
   ],
   "metadata": {
    "collapsed": false
   },
   "id": "3ac896f9b744ac89"
  },
  {
   "cell_type": "code",
   "execution_count": null,
   "outputs": [],
   "source": [
    "xgb_params = {\n",
    "    'eta': 0.3,\n",
    "    'max_depth': 6,\n",
    "    'min_child_weight': 1,\n",
    "\n",
    "    'objective': 'reg:squarederror',\n",
    "    'nthread': 8,\n",
    "\n",
    "    'seed': 1,\n",
    "    'verbosity': 1,\n",
    "}\n",
    "\n",
    "model = xgb.train(xgb_params, dtrain, num_boost_round=100)"
   ],
   "metadata": {
    "collapsed": false
   },
   "id": "7bb7c372f69a7d1f"
  },
  {
   "cell_type": "code",
   "execution_count": null,
   "outputs": [],
   "source": [
    "ypred = model.predict(dvalid)\n",
    "\n",
    "rmse = mean_squared_error(ypred, yvalid, squared=False)\n",
    "\n",
    "np.round(rmse, 3)"
   ],
   "metadata": {
    "collapsed": false
   },
   "id": "bbec6f3124633462"
  },
  {
   "cell_type": "code",
   "execution_count": null,
   "outputs": [],
   "source": [
    "xgb_params = {\n",
    "    'eta': 0.1,\n",
    "    'max_depth': 6,\n",
    "    'min_child_weight': 1,\n",
    "\n",
    "    'objective': 'reg:squarederror',\n",
    "    'nthread': 8,\n",
    "\n",
    "    'seed': 1,\n",
    "    'verbosity': 1,\n",
    "}\n",
    "\n",
    "model = xgb.train(xgb_params, dtrain, num_boost_round=100)"
   ],
   "metadata": {
    "collapsed": false
   },
   "id": "90e9b573f796e703"
  },
  {
   "cell_type": "code",
   "execution_count": null,
   "outputs": [],
   "source": [
    "ypred = model.predict(dvalid)\n",
    "\n",
    "rmse = mean_squared_error(ypred, yvalid, squared=False)\n",
    "\n",
    "np.round(rmse, 3)"
   ],
   "metadata": {
    "collapsed": false
   },
   "id": "ceefbdbf35cea549"
  }
 ],
 "metadata": {
  "kernelspec": {
   "display_name": "Python 3",
   "language": "python",
   "name": "python3"
  },
  "language_info": {
   "codemirror_mode": {
    "name": "ipython",
    "version": 2
   },
   "file_extension": ".py",
   "mimetype": "text/x-python",
   "name": "python",
   "nbconvert_exporter": "python",
   "pygments_lexer": "ipython2",
   "version": "2.7.6"
  }
 },
 "nbformat": 4,
 "nbformat_minor": 5
}
