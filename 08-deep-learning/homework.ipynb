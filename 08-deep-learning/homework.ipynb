{
 "cells": [
  {
   "cell_type": "code",
   "execution_count": null,
   "id": "initial_id",
   "metadata": {
    "collapsed": true
   },
   "outputs": [],
   "source": [
    "import numpy as np\n",
    "import pandas as pd\n",
    "\n",
    "from tensorflow.keras.models import Sequential\n",
    "from tensorflow.keras.layers import Conv2D, MaxPooling2D, Flatten, Dense\n",
    "from tensorflow.keras.optimizers import SGD\n",
    "from tensorflow.keras.preprocessing.image import ImageDataGenerator"
   ]
  },
  {
   "cell_type": "markdown",
   "source": [
    "**Question 01**"
   ],
   "metadata": {
    "collapsed": false
   },
   "id": "93ea4c861ca568a7"
  },
  {
   "cell_type": "code",
   "execution_count": null,
   "outputs": [],
   "source": [
    "model = Sequential([\n",
    "    Conv2D(32, (3, 3), activation='relu', input_shape=(150, 150, 3)),\n",
    "    MaxPooling2D((2, 2)),\n",
    "    Flatten(),\n",
    "    Dense(64, activation='relu'),\n",
    "    Dense(1, activation='sigmoid')\n",
    "])\n",
    "\n",
    "\n",
    "optimizer = SGD(lr=0.002, momentum=0.8)\n",
    "model.compile(optimizer=optimizer, loss='binary_crossentropy', metrics=['accuracy'])"
   ],
   "metadata": {
    "collapsed": false
   },
   "id": "246e33cc6662ecc4"
  },
  {
   "cell_type": "markdown",
   "source": [
    "**Question 02**"
   ],
   "metadata": {
    "collapsed": false
   },
   "id": "b865b1393a08aad"
  },
  {
   "cell_type": "code",
   "execution_count": null,
   "outputs": [],
   "source": [
    "model.summary()"
   ],
   "metadata": {
    "collapsed": false
   },
   "id": "2a06a15189b3dea0"
  },
  {
   "cell_type": "markdown",
   "source": [
    "**Question 03**"
   ],
   "metadata": {
    "collapsed": false
   },
   "id": "cffa2594f313af0"
  },
  {
   "cell_type": "code",
   "execution_count": null,
   "outputs": [],
   "source": [
    "train_path = './data/train'\n",
    "test_path = './data/test'\n",
    "\n",
    "datagen = ImageDataGenerator(rescale=1./255)\n",
    "\n",
    "train_generator = datagen.flow_from_directory(\n",
    "    train_path,\n",
    "    target_size=(150, 150),\n",
    "    batch_size=20,\n",
    "    class_mode='binary',\n",
    "    shuffle=True\n",
    ")\n",
    "\n",
    "test_generator = datagen.flow_from_directory(\n",
    "    test_path,\n",
    "    target_size=(150, 150),\n",
    "    batch_size=20,\n",
    "    class_mode='binary',\n",
    "    shuffle=True\n",
    ")"
   ],
   "metadata": {
    "collapsed": false
   },
   "id": "1deaab36d949d643"
  },
  {
   "cell_type": "code",
   "execution_count": null,
   "outputs": [],
   "source": [
    "history = model.fit(\n",
    "    train_generator,\n",
    "    epochs=10,\n",
    "    validation_data=test_generator\n",
    ")"
   ],
   "metadata": {
    "collapsed": false
   },
   "id": "f90b5170ae9b1582"
  },
  {
   "cell_type": "code",
   "execution_count": null,
   "outputs": [],
   "source": [
    "train_acc = history.history['accuracy']\n",
    "\n",
    "np.median(train_acc)"
   ],
   "metadata": {
    "collapsed": false
   },
   "id": "c8772227ce03cd8c"
  },
  {
   "cell_type": "markdown",
   "source": [
    "**Question 04**"
   ],
   "metadata": {
    "collapsed": false
   },
   "id": "556978e8df2ef089"
  },
  {
   "cell_type": "code",
   "execution_count": null,
   "outputs": [],
   "source": [
    "train_loss = history.history['loss']\n",
    "\n",
    "np.std(train_loss)"
   ],
   "metadata": {
    "collapsed": false
   },
   "id": "1f446494c32c2887"
  },
  {
   "cell_type": "markdown",
   "source": [
    "**Question 05**"
   ],
   "metadata": {
    "collapsed": false
   },
   "id": "4ee829c9f14f579b"
  },
  {
   "cell_type": "code",
   "execution_count": null,
   "outputs": [],
   "source": [
    "datagen = ImageDataGenerator(\n",
    "    rescale=1./255,\n",
    "    rotation_range=50,\n",
    "    width_shift_range=0.1,\n",
    "    height_shift_range=0.1,\n",
    "    zoom_range=0.1,\n",
    "    horizontal_flip=True,\n",
    "    fill_mode='nearest'\n",
    ")\n",
    "\n",
    "train_generator = datagen.flow_from_directory(\n",
    "    train_path,\n",
    "    target_size=(150, 150),\n",
    "    batch_size=20,\n",
    "    class_mode='binary',\n",
    "    shuffle=True\n",
    ")\n",
    "\n",
    "test_generator = datagen.flow_from_directory(\n",
    "    test_path,\n",
    "    target_size=(150, 150),\n",
    "    batch_size=20,\n",
    "    class_mode='binary',\n",
    "    shuffle=True\n",
    ")"
   ],
   "metadata": {
    "collapsed": false
   },
   "id": "596fbe66c9bce56"
  },
  {
   "cell_type": "code",
   "execution_count": null,
   "outputs": [],
   "source": [
    "history = model.fit(\n",
    "    train_generator,\n",
    "    epochs=10,\n",
    "    validation_data=test_generator\n",
    ")"
   ],
   "metadata": {
    "collapsed": false
   },
   "id": "e6bcd38abc4bea60"
  },
  {
   "cell_type": "code",
   "execution_count": null,
   "outputs": [],
   "source": [
    "test_loss = history.history['val_loss']\n",
    "\n",
    "np.mean(test_loss)"
   ],
   "metadata": {
    "collapsed": false
   },
   "id": "9695fc26d70e8bd3"
  },
  {
   "cell_type": "markdown",
   "source": [
    "**Question 06**"
   ],
   "metadata": {
    "collapsed": false
   },
   "id": "86d7f50f20c3ceb8"
  },
  {
   "cell_type": "code",
   "execution_count": null,
   "outputs": [],
   "source": [
    "test_accuracy_last_5_epochs = history.history['val_accuracy'][-5:]\n",
    "\n",
    "np.mean(test_accuracy_last_5_epochs)"
   ],
   "metadata": {
    "collapsed": false
   },
   "id": "946f6183b24ac0fb"
  }
 ],
 "metadata": {
  "kernelspec": {
   "display_name": "Python 3",
   "language": "python",
   "name": "python3"
  },
  "language_info": {
   "codemirror_mode": {
    "name": "ipython",
    "version": 2
   },
   "file_extension": ".py",
   "mimetype": "text/x-python",
   "name": "python",
   "nbconvert_exporter": "python",
   "pygments_lexer": "ipython2",
   "version": "2.7.6"
  }
 },
 "nbformat": 4,
 "nbformat_minor": 5
}
