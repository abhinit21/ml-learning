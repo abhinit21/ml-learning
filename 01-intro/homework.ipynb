{
 "cells": [
  {
   "cell_type": "code",
   "execution_count": 37,
   "id": "initial_id",
   "metadata": {
    "collapsed": true,
    "ExecuteTime": {
     "end_time": "2023-09-11T12:17:34.724465700Z",
     "start_time": "2023-09-11T12:17:34.709461700Z"
    }
   },
   "outputs": [],
   "source": [
    "import numpy as np\n",
    "import pandas as pd"
   ]
  },
  {
   "cell_type": "markdown",
   "source": [
    "**Question 1**"
   ],
   "metadata": {
    "collapsed": false
   },
   "id": "715e2b7bdd13f830"
  },
  {
   "cell_type": "code",
   "execution_count": 2,
   "outputs": [
    {
     "data": {
      "text/plain": "'2.0.3'"
     },
     "execution_count": 2,
     "metadata": {},
     "output_type": "execute_result"
    }
   ],
   "source": [
    "pd.__version__"
   ],
   "metadata": {
    "collapsed": false,
    "ExecuteTime": {
     "end_time": "2023-09-11T11:37:21.245320900Z",
     "start_time": "2023-09-11T11:37:21.229318500Z"
    }
   },
   "id": "bb0ee0fe1a640d0a"
  },
  {
   "cell_type": "code",
   "execution_count": 3,
   "outputs": [],
   "source": [
    "df = pd.read_csv('housing.csv')"
   ],
   "metadata": {
    "collapsed": false,
    "ExecuteTime": {
     "end_time": "2023-09-11T11:37:21.316857100Z",
     "start_time": "2023-09-11T11:37:21.243317300Z"
    }
   },
   "id": "31343d694f19b4fe"
  },
  {
   "cell_type": "markdown",
   "source": [
    "**Question 2**"
   ],
   "metadata": {
    "collapsed": false
   },
   "id": "213b49bd9f5b7d80"
  },
  {
   "cell_type": "code",
   "execution_count": 4,
   "outputs": [
    {
     "data": {
      "text/plain": "10"
     },
     "execution_count": 4,
     "metadata": {},
     "output_type": "execute_result"
    }
   ],
   "source": [
    "rows, columns = df.shape\n",
    "\n",
    "columns"
   ],
   "metadata": {
    "collapsed": false,
    "ExecuteTime": {
     "end_time": "2023-09-11T11:37:21.333853400Z",
     "start_time": "2023-09-11T11:37:21.290855200Z"
    }
   },
   "id": "50ac92961fd42ba7"
  },
  {
   "cell_type": "markdown",
   "source": [
    "**Question 3**"
   ],
   "metadata": {
    "collapsed": false
   },
   "id": "9c6d0729f4d65be5"
  },
  {
   "cell_type": "code",
   "execution_count": 32,
   "outputs": [
    {
     "data": {
      "text/plain": "longitude             False\nlatitude              False\nhousing_median_age    False\ntotal_rooms           False\ntotal_bedrooms         True\npopulation            False\nhouseholds            False\nmedian_income         False\nmedian_house_value    False\nocean_proximity       False\ndtype: bool"
     },
     "execution_count": 32,
     "metadata": {},
     "output_type": "execute_result"
    }
   ],
   "source": [
    "null_columns = df.isna().any()\n",
    "\n",
    "null_columns"
   ],
   "metadata": {
    "collapsed": false,
    "ExecuteTime": {
     "end_time": "2023-09-11T12:08:10.953636100Z",
     "start_time": "2023-09-11T12:08:10.867081500Z"
    }
   },
   "id": "4f9f19d28fb16f35"
  },
  {
   "cell_type": "markdown",
   "source": [
    "**Question 4**"
   ],
   "metadata": {
    "collapsed": false
   },
   "id": "1679bedcd2ec3c5c"
  },
  {
   "cell_type": "code",
   "execution_count": 6,
   "outputs": [
    {
     "data": {
      "text/plain": "5"
     },
     "execution_count": 6,
     "metadata": {},
     "output_type": "execute_result"
    }
   ],
   "source": [
    "nunique_ocean_proximity = df.ocean_proximity.nunique()\n",
    "\n",
    "nunique_ocean_proximity"
   ],
   "metadata": {
    "collapsed": false,
    "ExecuteTime": {
     "end_time": "2023-09-11T11:37:21.339854900Z",
     "start_time": "2023-09-11T11:37:21.321855800Z"
    }
   },
   "id": "2bba403e9b23a285"
  },
  {
   "cell_type": "markdown",
   "source": [
    "**Question 5**"
   ],
   "metadata": {
    "collapsed": false
   },
   "id": "f23332055876f70c"
  },
  {
   "cell_type": "code",
   "execution_count": 39,
   "outputs": [
    {
     "data": {
      "text/plain": "259212"
     },
     "execution_count": 39,
     "metadata": {},
     "output_type": "execute_result"
    }
   ],
   "source": [
    "near_bay = df[df.ocean_proximity == 'NEAR BAY']\n",
    "\n",
    "np.round(near_bay.median_house_value.mean()).astype(int)"
   ],
   "metadata": {
    "collapsed": false,
    "ExecuteTime": {
     "end_time": "2023-09-11T12:17:50.889611900Z",
     "start_time": "2023-09-11T12:17:50.867536Z"
    }
   },
   "id": "49e8e34db6a0f93e"
  },
  {
   "cell_type": "markdown",
   "source": [
    "**Question 6**"
   ],
   "metadata": {
    "collapsed": false
   },
   "id": "7985ca69c3ea854a"
  },
  {
   "cell_type": "code",
   "execution_count": 44,
   "outputs": [
    {
     "data": {
      "text/plain": "'No'"
     },
     "execution_count": 44,
     "metadata": {},
     "output_type": "execute_result"
    }
   ],
   "source": [
    "bedrooms_mean = df.total_bedrooms.mean()\n",
    "df.total_bedrooms.fillna(bedrooms_mean, inplace=True)\n",
    "bedrooms_new_mean = df.total_bedrooms.mean()\n",
    "\n",
    "'No' if f'{bedrooms_mean:.3f}' == f'{bedrooms_new_mean:.3f}' else 'Yes'"
   ],
   "metadata": {
    "collapsed": false,
    "ExecuteTime": {
     "end_time": "2023-09-11T12:27:06.455884Z",
     "start_time": "2023-09-11T12:27:06.446360800Z"
    }
   },
   "id": "81dfae6086c41d9b"
  },
  {
   "cell_type": "markdown",
   "source": [
    "**Question 7**"
   ],
   "metadata": {
    "collapsed": false
   },
   "id": "9b18fe8e7390d1a9"
  },
  {
   "cell_type": "code",
   "execution_count": 54,
   "outputs": [
    {
     "data": {
      "text/plain": "5.6992"
     },
     "execution_count": 54,
     "metadata": {},
     "output_type": "execute_result"
    }
   ],
   "source": [
    "island = df[df.ocean_proximity == 'ISLAND']\n",
    "columns = ['housing_median_age', 'total_rooms', 'total_bedrooms']\n",
    "\n",
    "X = island[columns].to_numpy()\n",
    "XTX = X.T @ X\n",
    "XTX_inv = np.linalg.inv(XTX)\n",
    "\n",
    "y = [950, 1300, 800, 1000, 1300]\n",
    "\n",
    "w = (XTX_inv @ X.T) @ y\n",
    "\n",
    "np.round(w[-1], 4)"
   ],
   "metadata": {
    "collapsed": false,
    "ExecuteTime": {
     "end_time": "2023-09-11T12:38:35.173561400Z",
     "start_time": "2023-09-11T12:38:35.069376200Z"
    }
   },
   "id": "5cef158b3c9af4f"
  }
 ],
 "metadata": {
  "kernelspec": {
   "display_name": "Python 3",
   "language": "python",
   "name": "python3"
  },
  "language_info": {
   "codemirror_mode": {
    "name": "ipython",
    "version": 2
   },
   "file_extension": ".py",
   "mimetype": "text/x-python",
   "name": "python",
   "nbconvert_exporter": "python",
   "pygments_lexer": "ipython2",
   "version": "2.7.6"
  }
 },
 "nbformat": 4,
 "nbformat_minor": 5
}
