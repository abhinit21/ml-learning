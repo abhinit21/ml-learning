{
 "cells": [
  {
   "cell_type": "code",
   "execution_count": null,
   "id": "initial_id",
   "metadata": {
    "collapsed": true
   },
   "outputs": [],
   "source": []
  },
  {
   "cell_type": "markdown",
   "source": [
    "**Question 01**"
   ],
   "metadata": {
    "collapsed": false
   },
   "id": "214054b8053bf1"
  },
  {
   "cell_type": "code",
   "execution_count": null,
   "outputs": [],
   "source": [],
   "metadata": {
    "collapsed": false
   },
   "id": "99989c22fa067471"
  },
  {
   "cell_type": "markdown",
   "source": [
    "**Question 02**"
   ],
   "metadata": {
    "collapsed": false
   },
   "id": "d235baf45994de67"
  },
  {
   "cell_type": "code",
   "execution_count": null,
   "outputs": [],
   "source": [],
   "metadata": {
    "collapsed": false
   },
   "id": "a07bbfb5913138ba"
  },
  {
   "cell_type": "markdown",
   "source": [
    "**Question 03**"
   ],
   "metadata": {
    "collapsed": false
   },
   "id": "6448f8bf41dc7e38"
  },
  {
   "cell_type": "code",
   "execution_count": null,
   "outputs": [],
   "source": [],
   "metadata": {
    "collapsed": false
   },
   "id": "f60860711b57f960"
  },
  {
   "cell_type": "markdown",
   "source": [
    "**Question 04**"
   ],
   "metadata": {
    "collapsed": false
   },
   "id": "951798c551be91f9"
  },
  {
   "cell_type": "code",
   "execution_count": null,
   "outputs": [],
   "source": [],
   "metadata": {
    "collapsed": false
   },
   "id": "8735f8e88b7de090"
  },
  {
   "cell_type": "markdown",
   "source": [
    "**Question 05**"
   ],
   "metadata": {
    "collapsed": false
   },
   "id": "71eb0d8856956f14"
  },
  {
   "cell_type": "code",
   "execution_count": null,
   "outputs": [],
   "source": [],
   "metadata": {
    "collapsed": false
   },
   "id": "bb3eaa52ed5d7e98"
  },
  {
   "cell_type": "markdown",
   "source": [
    "**Question 06**"
   ],
   "metadata": {
    "collapsed": false
   },
   "id": "8f1c91a7cb52c2c8"
  },
  {
   "cell_type": "code",
   "execution_count": null,
   "outputs": [],
   "source": [],
   "metadata": {
    "collapsed": false
   },
   "id": "f662b38c2d9c7f72"
  },
  {
   "cell_type": "markdown",
   "source": [
    "**Question 07**"
   ],
   "metadata": {
    "collapsed": false
   },
   "id": "25e57ceaae4e2646"
  },
  {
   "cell_type": "code",
   "execution_count": null,
   "outputs": [],
   "source": [],
   "metadata": {
    "collapsed": false
   },
   "id": "8d63b3859ec89434"
  },
  {
   "cell_type": "markdown",
   "source": [
    "**Question 08**"
   ],
   "metadata": {
    "collapsed": false
   },
   "id": "505528c15365e409"
  },
  {
   "cell_type": "code",
   "execution_count": null,
   "outputs": [],
   "source": [],
   "metadata": {
    "collapsed": false
   },
   "id": "3651f05520742149"
  },
  {
   "cell_type": "markdown",
   "source": [
    "**Question 09**"
   ],
   "metadata": {
    "collapsed": false
   },
   "id": "8109b0e99619a5ae"
  },
  {
   "cell_type": "code",
   "execution_count": null,
   "outputs": [],
   "source": [],
   "metadata": {
    "collapsed": false
   },
   "id": "4323a4900e44aebb"
  }
 ],
 "metadata": {
  "kernelspec": {
   "display_name": "Python 3",
   "language": "python",
   "name": "python3"
  },
  "language_info": {
   "codemirror_mode": {
    "name": "ipython",
    "version": 2
   },
   "file_extension": ".py",
   "mimetype": "text/x-python",
   "name": "python",
   "nbconvert_exporter": "python",
   "pygments_lexer": "ipython2",
   "version": "2.7.6"
  }
 },
 "nbformat": 4,
 "nbformat_minor": 5
}
