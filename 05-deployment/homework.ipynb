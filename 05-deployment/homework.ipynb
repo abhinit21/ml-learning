{
 "cells": [
  {
   "cell_type": "code",
   "execution_count": 24,
   "id": "initial_id",
   "metadata": {
    "collapsed": true,
    "ExecuteTime": {
     "end_time": "2023-10-11T09:29:21.442159Z",
     "start_time": "2023-10-11T09:29:21.369164700Z"
    }
   },
   "outputs": [],
   "source": [
    "import pickle\n",
    "import requests"
   ]
  },
  {
   "cell_type": "markdown",
   "source": [
    "**Question 01**"
   ],
   "metadata": {
    "collapsed": false
   },
   "id": "f3dd01b85359727"
  },
  {
   "cell_type": "markdown",
   "source": [
    "```bash\n",
    "pip install pipenv\n",
    "pipenv --version\n",
    "```"
   ],
   "metadata": {
    "collapsed": false
   },
   "id": "84a26e04b96ee266"
  },
  {
   "cell_type": "markdown",
   "source": [
    "> pipenv, version 2023.10.3"
   ],
   "metadata": {
    "collapsed": false
   },
   "id": "c9adeac92b3064ce"
  },
  {
   "cell_type": "markdown",
   "source": [
    "**Question 02**"
   ],
   "metadata": {
    "collapsed": false
   },
   "id": "a0d8a3f8c452b521"
  },
  {
   "cell_type": "markdown",
   "source": [
    "```bash\n",
    "pipenv install scikit-learn==1.3.1\n",
    "```\n",
    "\n",
    "* Open PipLock file and find 'scikit-learn'\n",
    "* First hash in the list of \"hashes\""
   ],
   "metadata": {
    "collapsed": false
   },
   "id": "564377d1cdc64315"
  },
  {
   "cell_type": "markdown",
   "source": [
    "**Question 03**"
   ],
   "metadata": {
    "collapsed": false
   },
   "id": "e6bf3710b8737b73"
  },
  {
   "cell_type": "code",
   "execution_count": 25,
   "outputs": [],
   "source": [
    "with open('dv.bin', 'rb') as file:\n",
    "    dv = pickle.load(file)\n",
    "\n",
    "with open('model.bin', 'rb') as file:\n",
    "    model = pickle.load(file)"
   ],
   "metadata": {
    "collapsed": false,
    "ExecuteTime": {
     "end_time": "2023-10-11T09:29:21.460160700Z",
     "start_time": "2023-10-11T09:29:21.391161400Z"
    }
   },
   "id": "936247439b8623da"
  },
  {
   "cell_type": "code",
   "execution_count": 26,
   "outputs": [
    {
     "data": {
      "text/plain": "array([[0.098, 0.902]])"
     },
     "execution_count": 26,
     "metadata": {},
     "output_type": "execute_result"
    }
   ],
   "source": [
    "client = {\n",
    "    \"job\": \"retired\", \n",
    "    \"duration\": 445, \n",
    "    \"poutcome\": \"success\"\n",
    "}\n",
    "\n",
    "ytest = dv.transform(client)\n",
    "model.predict_proba(ytest).round(3)"
   ],
   "metadata": {
    "collapsed": false,
    "ExecuteTime": {
     "end_time": "2023-10-11T09:29:21.510151700Z",
     "start_time": "2023-10-11T09:29:21.476144600Z"
    }
   },
   "id": "81dc1177b6f90c8a"
  },
  {
   "cell_type": "markdown",
   "source": [
    "**Question 04**"
   ],
   "metadata": {
    "collapsed": false
   },
   "id": "39b1e40aa887fd7f"
  },
  {
   "cell_type": "code",
   "execution_count": 27,
   "outputs": [
    {
     "data": {
      "text/plain": "{'credit': False, 'credit_score': 0.14}"
     },
     "execution_count": 27,
     "metadata": {},
     "output_type": "execute_result"
    }
   ],
   "source": [
    "url = \"http://127.0.0.1:9090/score\"\n",
    "client = {\n",
    "    \"job\": \"unknown\", \n",
    "    \"duration\": 270, \n",
    "    \"poutcome\": \"failure\"\n",
    "}\n",
    "requests.post(url, json=client).json()"
   ],
   "metadata": {
    "collapsed": false,
    "ExecuteTime": {
     "end_time": "2023-10-11T09:29:21.580146800Z",
     "start_time": "2023-10-11T09:29:21.496148400Z"
    }
   },
   "id": "a79472511e285272"
  },
  {
   "cell_type": "markdown",
   "source": [
    "**Question 05**"
   ],
   "metadata": {
    "collapsed": false
   },
   "id": "3bae6fee963231e6"
  },
  {
   "cell_type": "markdown",
   "source": [
    "```bash\n",
    "docker images\n",
    "```"
   ],
   "metadata": {
    "collapsed": false
   },
   "id": "fe66c2a91f86d45d"
  },
  {
   "cell_type": "markdown",
   "source": [
    "**Question 06**"
   ],
   "metadata": {
    "collapsed": false
   },
   "id": "ee83625751002c8e"
  },
  {
   "cell_type": "markdown",
   "source": [
    "```bash\n",
    "docker build -t credit-score .\n",
    "docker run -it -p 9090:9090 credit-score:latest\n",
    "\n",
    "python script.py\n",
    "```"
   ],
   "metadata": {
    "collapsed": false
   },
   "id": "6c9dba43397cf2cc"
  },
  {
   "cell_type": "markdown",
   "source": [
    "> {'credit': True, 'credit_score': 0.902}"
   ],
   "metadata": {
    "collapsed": false
   },
   "id": "7d5978f7ab19e304"
  }
 ],
 "metadata": {
  "kernelspec": {
   "display_name": "Python 3",
   "language": "python",
   "name": "python3"
  },
  "language_info": {
   "codemirror_mode": {
    "name": "ipython",
    "version": 2
   },
   "file_extension": ".py",
   "mimetype": "text/x-python",
   "name": "python",
   "nbconvert_exporter": "python",
   "pygments_lexer": "ipython2",
   "version": "2.7.6"
  }
 },
 "nbformat": 4,
 "nbformat_minor": 5
}
