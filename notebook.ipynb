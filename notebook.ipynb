{
 "cells": [
  {
   "cell_type": "code",
   "execution_count": 1,
   "id": "initial_id",
   "metadata": {
    "collapsed": true,
    "ExecuteTime": {
     "end_time": "2023-11-01T07:06:54.350630300Z",
     "start_time": "2023-11-01T07:06:53.263874Z"
    }
   },
   "outputs": [],
   "source": [
    "import pandas as pd"
   ]
  },
  {
   "cell_type": "code",
   "execution_count": 5,
   "outputs": [],
   "source": [
    "df_train = pd.read_csv('./data/train.csv', index_col=0)"
   ],
   "metadata": {
    "collapsed": false,
    "ExecuteTime": {
     "end_time": "2023-11-01T07:07:35.625400800Z",
     "start_time": "2023-11-01T07:07:35.288783700Z"
    }
   },
   "id": "a4086dc43c13303f"
  },
  {
   "cell_type": "code",
   "execution_count": 6,
   "outputs": [
    {
     "data": {
      "text/plain": "       id  Gender      Customer Type  Age   Type of Travel     Class  \\\n0   70172    Male     Loyal Customer   13  Personal Travel  Eco Plus   \n1    5047    Male  disloyal Customer   25  Business travel  Business   \n2  110028  Female     Loyal Customer   26  Business travel  Business   \n3   24026  Female     Loyal Customer   25  Business travel  Business   \n4  119299    Male     Loyal Customer   61  Business travel  Business   \n\n   Flight Distance  Inflight wifi service  Departure/Arrival time convenient  \\\n0              460                      3                                  4   \n1              235                      3                                  2   \n2             1142                      2                                  2   \n3              562                      2                                  5   \n4              214                      3                                  3   \n\n   Ease of Online booking  ...  Inflight entertainment  On-board service  \\\n0                       3  ...                       5                 4   \n1                       3  ...                       1                 1   \n2                       2  ...                       5                 4   \n3                       5  ...                       2                 2   \n4                       3  ...                       3                 3   \n\n   Leg room service  Baggage handling  Checkin service  Inflight service  \\\n0                 3                 4                4                 5   \n1                 5                 3                1                 4   \n2                 3                 4                4                 4   \n3                 5                 3                1                 4   \n4                 4                 4                3                 3   \n\n   Cleanliness  Departure Delay in Minutes  Arrival Delay in Minutes  \\\n0            5                          25                      18.0   \n1            1                           1                       6.0   \n2            5                           0                       0.0   \n3            2                          11                       9.0   \n4            3                           0                       0.0   \n\n              satisfaction  \n0  neutral or dissatisfied  \n1  neutral or dissatisfied  \n2                satisfied  \n3  neutral or dissatisfied  \n4                satisfied  \n\n[5 rows x 24 columns]",
      "text/html": "<div>\n<style scoped>\n    .dataframe tbody tr th:only-of-type {\n        vertical-align: middle;\n    }\n\n    .dataframe tbody tr th {\n        vertical-align: top;\n    }\n\n    .dataframe thead th {\n        text-align: right;\n    }\n</style>\n<table border=\"1\" class=\"dataframe\">\n  <thead>\n    <tr style=\"text-align: right;\">\n      <th></th>\n      <th>id</th>\n      <th>Gender</th>\n      <th>Customer Type</th>\n      <th>Age</th>\n      <th>Type of Travel</th>\n      <th>Class</th>\n      <th>Flight Distance</th>\n      <th>Inflight wifi service</th>\n      <th>Departure/Arrival time convenient</th>\n      <th>Ease of Online booking</th>\n      <th>...</th>\n      <th>Inflight entertainment</th>\n      <th>On-board service</th>\n      <th>Leg room service</th>\n      <th>Baggage handling</th>\n      <th>Checkin service</th>\n      <th>Inflight service</th>\n      <th>Cleanliness</th>\n      <th>Departure Delay in Minutes</th>\n      <th>Arrival Delay in Minutes</th>\n      <th>satisfaction</th>\n    </tr>\n  </thead>\n  <tbody>\n    <tr>\n      <th>0</th>\n      <td>70172</td>\n      <td>Male</td>\n      <td>Loyal Customer</td>\n      <td>13</td>\n      <td>Personal Travel</td>\n      <td>Eco Plus</td>\n      <td>460</td>\n      <td>3</td>\n      <td>4</td>\n      <td>3</td>\n      <td>...</td>\n      <td>5</td>\n      <td>4</td>\n      <td>3</td>\n      <td>4</td>\n      <td>4</td>\n      <td>5</td>\n      <td>5</td>\n      <td>25</td>\n      <td>18.0</td>\n      <td>neutral or dissatisfied</td>\n    </tr>\n    <tr>\n      <th>1</th>\n      <td>5047</td>\n      <td>Male</td>\n      <td>disloyal Customer</td>\n      <td>25</td>\n      <td>Business travel</td>\n      <td>Business</td>\n      <td>235</td>\n      <td>3</td>\n      <td>2</td>\n      <td>3</td>\n      <td>...</td>\n      <td>1</td>\n      <td>1</td>\n      <td>5</td>\n      <td>3</td>\n      <td>1</td>\n      <td>4</td>\n      <td>1</td>\n      <td>1</td>\n      <td>6.0</td>\n      <td>neutral or dissatisfied</td>\n    </tr>\n    <tr>\n      <th>2</th>\n      <td>110028</td>\n      <td>Female</td>\n      <td>Loyal Customer</td>\n      <td>26</td>\n      <td>Business travel</td>\n      <td>Business</td>\n      <td>1142</td>\n      <td>2</td>\n      <td>2</td>\n      <td>2</td>\n      <td>...</td>\n      <td>5</td>\n      <td>4</td>\n      <td>3</td>\n      <td>4</td>\n      <td>4</td>\n      <td>4</td>\n      <td>5</td>\n      <td>0</td>\n      <td>0.0</td>\n      <td>satisfied</td>\n    </tr>\n    <tr>\n      <th>3</th>\n      <td>24026</td>\n      <td>Female</td>\n      <td>Loyal Customer</td>\n      <td>25</td>\n      <td>Business travel</td>\n      <td>Business</td>\n      <td>562</td>\n      <td>2</td>\n      <td>5</td>\n      <td>5</td>\n      <td>...</td>\n      <td>2</td>\n      <td>2</td>\n      <td>5</td>\n      <td>3</td>\n      <td>1</td>\n      <td>4</td>\n      <td>2</td>\n      <td>11</td>\n      <td>9.0</td>\n      <td>neutral or dissatisfied</td>\n    </tr>\n    <tr>\n      <th>4</th>\n      <td>119299</td>\n      <td>Male</td>\n      <td>Loyal Customer</td>\n      <td>61</td>\n      <td>Business travel</td>\n      <td>Business</td>\n      <td>214</td>\n      <td>3</td>\n      <td>3</td>\n      <td>3</td>\n      <td>...</td>\n      <td>3</td>\n      <td>3</td>\n      <td>4</td>\n      <td>4</td>\n      <td>3</td>\n      <td>3</td>\n      <td>3</td>\n      <td>0</td>\n      <td>0.0</td>\n      <td>satisfied</td>\n    </tr>\n  </tbody>\n</table>\n<p>5 rows × 24 columns</p>\n</div>"
     },
     "execution_count": 6,
     "metadata": {},
     "output_type": "execute_result"
    }
   ],
   "source": [
    "df_train.head()"
   ],
   "metadata": {
    "collapsed": false,
    "ExecuteTime": {
     "end_time": "2023-11-01T07:07:35.685990300Z",
     "start_time": "2023-11-01T07:07:35.627402200Z"
    }
   },
   "id": "a6289fac5091229f"
  },
  {
   "cell_type": "code",
   "execution_count": 7,
   "outputs": [
    {
     "data": {
      "text/plain": "                  id            Age  Flight Distance  Inflight wifi service  \\\ncount  103904.000000  103904.000000    103904.000000          103904.000000   \nmean    64924.210502      39.379706      1189.448375               2.729683   \nstd     37463.812252      15.114964       997.147281               1.327829   \nmin         1.000000       7.000000        31.000000               0.000000   \n25%     32533.750000      27.000000       414.000000               2.000000   \n50%     64856.500000      40.000000       843.000000               3.000000   \n75%     97368.250000      51.000000      1743.000000               4.000000   \nmax    129880.000000      85.000000      4983.000000               5.000000   \n\n       Departure/Arrival time convenient  Ease of Online booking  \\\ncount                      103904.000000           103904.000000   \nmean                            3.060296                2.756901   \nstd                             1.525075                1.398929   \nmin                             0.000000                0.000000   \n25%                             2.000000                2.000000   \n50%                             3.000000                3.000000   \n75%                             4.000000                4.000000   \nmax                             5.000000                5.000000   \n\n       Gate location  Food and drink  Online boarding   Seat comfort  \\\ncount  103904.000000   103904.000000    103904.000000  103904.000000   \nmean        2.976883        3.202129         3.250375       3.439396   \nstd         1.277621        1.329533         1.349509       1.319088   \nmin         0.000000        0.000000         0.000000       0.000000   \n25%         2.000000        2.000000         2.000000       2.000000   \n50%         3.000000        3.000000         3.000000       4.000000   \n75%         4.000000        4.000000         4.000000       5.000000   \nmax         5.000000        5.000000         5.000000       5.000000   \n\n       Inflight entertainment  On-board service  Leg room service  \\\ncount           103904.000000     103904.000000     103904.000000   \nmean                 3.358158          3.382363          3.351055   \nstd                  1.332991          1.288354          1.315605   \nmin                  0.000000          0.000000          0.000000   \n25%                  2.000000          2.000000          2.000000   \n50%                  4.000000          4.000000          4.000000   \n75%                  4.000000          4.000000          4.000000   \nmax                  5.000000          5.000000          5.000000   \n\n       Baggage handling  Checkin service  Inflight service    Cleanliness  \\\ncount     103904.000000    103904.000000     103904.000000  103904.000000   \nmean           3.631833         3.304290          3.640428       3.286351   \nstd            1.180903         1.265396          1.175663       1.312273   \nmin            1.000000         0.000000          0.000000       0.000000   \n25%            3.000000         3.000000          3.000000       2.000000   \n50%            4.000000         3.000000          4.000000       3.000000   \n75%            5.000000         4.000000          5.000000       4.000000   \nmax            5.000000         5.000000          5.000000       5.000000   \n\n       Departure Delay in Minutes  Arrival Delay in Minutes  \ncount               103904.000000             103594.000000  \nmean                    14.815618                 15.178678  \nstd                     38.230901                 38.698682  \nmin                      0.000000                  0.000000  \n25%                      0.000000                  0.000000  \n50%                      0.000000                  0.000000  \n75%                     12.000000                 13.000000  \nmax                   1592.000000               1584.000000  ",
      "text/html": "<div>\n<style scoped>\n    .dataframe tbody tr th:only-of-type {\n        vertical-align: middle;\n    }\n\n    .dataframe tbody tr th {\n        vertical-align: top;\n    }\n\n    .dataframe thead th {\n        text-align: right;\n    }\n</style>\n<table border=\"1\" class=\"dataframe\">\n  <thead>\n    <tr style=\"text-align: right;\">\n      <th></th>\n      <th>id</th>\n      <th>Age</th>\n      <th>Flight Distance</th>\n      <th>Inflight wifi service</th>\n      <th>Departure/Arrival time convenient</th>\n      <th>Ease of Online booking</th>\n      <th>Gate location</th>\n      <th>Food and drink</th>\n      <th>Online boarding</th>\n      <th>Seat comfort</th>\n      <th>Inflight entertainment</th>\n      <th>On-board service</th>\n      <th>Leg room service</th>\n      <th>Baggage handling</th>\n      <th>Checkin service</th>\n      <th>Inflight service</th>\n      <th>Cleanliness</th>\n      <th>Departure Delay in Minutes</th>\n      <th>Arrival Delay in Minutes</th>\n    </tr>\n  </thead>\n  <tbody>\n    <tr>\n      <th>count</th>\n      <td>103904.000000</td>\n      <td>103904.000000</td>\n      <td>103904.000000</td>\n      <td>103904.000000</td>\n      <td>103904.000000</td>\n      <td>103904.000000</td>\n      <td>103904.000000</td>\n      <td>103904.000000</td>\n      <td>103904.000000</td>\n      <td>103904.000000</td>\n      <td>103904.000000</td>\n      <td>103904.000000</td>\n      <td>103904.000000</td>\n      <td>103904.000000</td>\n      <td>103904.000000</td>\n      <td>103904.000000</td>\n      <td>103904.000000</td>\n      <td>103904.000000</td>\n      <td>103594.000000</td>\n    </tr>\n    <tr>\n      <th>mean</th>\n      <td>64924.210502</td>\n      <td>39.379706</td>\n      <td>1189.448375</td>\n      <td>2.729683</td>\n      <td>3.060296</td>\n      <td>2.756901</td>\n      <td>2.976883</td>\n      <td>3.202129</td>\n      <td>3.250375</td>\n      <td>3.439396</td>\n      <td>3.358158</td>\n      <td>3.382363</td>\n      <td>3.351055</td>\n      <td>3.631833</td>\n      <td>3.304290</td>\n      <td>3.640428</td>\n      <td>3.286351</td>\n      <td>14.815618</td>\n      <td>15.178678</td>\n    </tr>\n    <tr>\n      <th>std</th>\n      <td>37463.812252</td>\n      <td>15.114964</td>\n      <td>997.147281</td>\n      <td>1.327829</td>\n      <td>1.525075</td>\n      <td>1.398929</td>\n      <td>1.277621</td>\n      <td>1.329533</td>\n      <td>1.349509</td>\n      <td>1.319088</td>\n      <td>1.332991</td>\n      <td>1.288354</td>\n      <td>1.315605</td>\n      <td>1.180903</td>\n      <td>1.265396</td>\n      <td>1.175663</td>\n      <td>1.312273</td>\n      <td>38.230901</td>\n      <td>38.698682</td>\n    </tr>\n    <tr>\n      <th>min</th>\n      <td>1.000000</td>\n      <td>7.000000</td>\n      <td>31.000000</td>\n      <td>0.000000</td>\n      <td>0.000000</td>\n      <td>0.000000</td>\n      <td>0.000000</td>\n      <td>0.000000</td>\n      <td>0.000000</td>\n      <td>0.000000</td>\n      <td>0.000000</td>\n      <td>0.000000</td>\n      <td>0.000000</td>\n      <td>1.000000</td>\n      <td>0.000000</td>\n      <td>0.000000</td>\n      <td>0.000000</td>\n      <td>0.000000</td>\n      <td>0.000000</td>\n    </tr>\n    <tr>\n      <th>25%</th>\n      <td>32533.750000</td>\n      <td>27.000000</td>\n      <td>414.000000</td>\n      <td>2.000000</td>\n      <td>2.000000</td>\n      <td>2.000000</td>\n      <td>2.000000</td>\n      <td>2.000000</td>\n      <td>2.000000</td>\n      <td>2.000000</td>\n      <td>2.000000</td>\n      <td>2.000000</td>\n      <td>2.000000</td>\n      <td>3.000000</td>\n      <td>3.000000</td>\n      <td>3.000000</td>\n      <td>2.000000</td>\n      <td>0.000000</td>\n      <td>0.000000</td>\n    </tr>\n    <tr>\n      <th>50%</th>\n      <td>64856.500000</td>\n      <td>40.000000</td>\n      <td>843.000000</td>\n      <td>3.000000</td>\n      <td>3.000000</td>\n      <td>3.000000</td>\n      <td>3.000000</td>\n      <td>3.000000</td>\n      <td>3.000000</td>\n      <td>4.000000</td>\n      <td>4.000000</td>\n      <td>4.000000</td>\n      <td>4.000000</td>\n      <td>4.000000</td>\n      <td>3.000000</td>\n      <td>4.000000</td>\n      <td>3.000000</td>\n      <td>0.000000</td>\n      <td>0.000000</td>\n    </tr>\n    <tr>\n      <th>75%</th>\n      <td>97368.250000</td>\n      <td>51.000000</td>\n      <td>1743.000000</td>\n      <td>4.000000</td>\n      <td>4.000000</td>\n      <td>4.000000</td>\n      <td>4.000000</td>\n      <td>4.000000</td>\n      <td>4.000000</td>\n      <td>5.000000</td>\n      <td>4.000000</td>\n      <td>4.000000</td>\n      <td>4.000000</td>\n      <td>5.000000</td>\n      <td>4.000000</td>\n      <td>5.000000</td>\n      <td>4.000000</td>\n      <td>12.000000</td>\n      <td>13.000000</td>\n    </tr>\n    <tr>\n      <th>max</th>\n      <td>129880.000000</td>\n      <td>85.000000</td>\n      <td>4983.000000</td>\n      <td>5.000000</td>\n      <td>5.000000</td>\n      <td>5.000000</td>\n      <td>5.000000</td>\n      <td>5.000000</td>\n      <td>5.000000</td>\n      <td>5.000000</td>\n      <td>5.000000</td>\n      <td>5.000000</td>\n      <td>5.000000</td>\n      <td>5.000000</td>\n      <td>5.000000</td>\n      <td>5.000000</td>\n      <td>5.000000</td>\n      <td>1592.000000</td>\n      <td>1584.000000</td>\n    </tr>\n  </tbody>\n</table>\n</div>"
     },
     "execution_count": 7,
     "metadata": {},
     "output_type": "execute_result"
    }
   ],
   "source": [
    "df_train.describe()"
   ],
   "metadata": {
    "collapsed": false,
    "ExecuteTime": {
     "end_time": "2023-11-01T07:07:35.950858600Z",
     "start_time": "2023-11-01T07:07:35.661633900Z"
    }
   },
   "id": "8e301cd5cb6a705d"
  },
  {
   "cell_type": "code",
   "execution_count": null,
   "outputs": [],
   "source": [
    "df.info()"
   ],
   "metadata": {
    "collapsed": false
   },
   "id": "f0cd10c585c2765c"
  }
 ],
 "metadata": {
  "kernelspec": {
   "display_name": "Python 3",
   "language": "python",
   "name": "python3"
  },
  "language_info": {
   "codemirror_mode": {
    "name": "ipython",
    "version": 2
   },
   "file_extension": ".py",
   "mimetype": "text/x-python",
   "name": "python",
   "nbconvert_exporter": "python",
   "pygments_lexer": "ipython2",
   "version": "2.7.6"
  }
 },
 "nbformat": 4,
 "nbformat_minor": 5
}
